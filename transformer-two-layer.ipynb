{
 "cells": [
  {
   "cell_type": "code",
   "execution_count": 1,
   "id": "fd12db3c",
   "metadata": {},
   "outputs": [],
   "source": [
    "import torch\n",
    "import torch.nn as nn\n",
    "from torch.nn import functional as F\n",
    "import matplotlib.pyplot as plt"
   ]
  },
  {
   "cell_type": "code",
   "execution_count": 2,
   "id": "9be180da",
   "metadata": {},
   "outputs": [],
   "source": [
    "with open(\"r&m.txt\", \"r\", encoding=\"utf-8\") as f:\n",
    "    text = f.read()"
   ]
  },
  {
   "cell_type": "code",
   "execution_count": 3,
   "id": "4a261ffd",
   "metadata": {},
   "outputs": [],
   "source": [
    "chars = sorted(list(set(text)))    # vocab build\n",
    "vocab_size = len(chars)\n",
    "stoi = {ch: i for i, ch in enumerate(chars)}\n",
    "itos = {i: ch for i, ch in enumerate(chars)}\n",
    "encode = lambda s: [stoi.get(c, 0) for c in s]\n",
    "decode = lambda l: ''.join([itos[i] for i in l])"
   ]
  },
  {
   "cell_type": "code",
   "execution_count": 4,
   "id": "b5804a0f",
   "metadata": {},
   "outputs": [],
   "source": [
    "data = torch.tensor(encode(text), dtype=torch.long)  # encode dataset\n",
    "train_data = data[:int(0.9 * len(data))]\n",
    "val_data = data[int(0.9 * len(data)):]"
   ]
  },
  {
   "cell_type": "code",
   "execution_count": 5,
   "id": "c1b1988a",
   "metadata": {},
   "outputs": [],
   "source": [
    "batch_size = 32        #hyperparameters for the transformer layer\n",
    "block_size = 128\n",
    "n_embd = 128\n",
    "device = 'cuda' if torch.cuda.is_available() else 'cpu'\n",
    "learning_rate = 1e-3\n",
    "max_iters = 5000\n",
    "eval_interval = 250\n"
   ]
  },
  {
   "cell_type": "code",
   "execution_count": 6,
   "id": "eae5a9ac",
   "metadata": {},
   "outputs": [],
   "source": [
    "def get_batch(split):            # batch loader\n",
    "    d = train_data if split == 'train' else val_data\n",
    "    ix = torch.randint(len(d) - block_size, (batch_size,))\n",
    "    x = torch.stack([d[i:i+block_size] for i in ix])\n",
    "    y = torch.stack([d[i+1:i+block_size+1] for i in ix])\n",
    "    return x.to(device), y.to(device)"
   ]
  },
  {
   "cell_type": "code",
   "execution_count": 7,
   "id": "3bb792e8",
   "metadata": {},
   "outputs": [],
   "source": [
    "class TransformerBlock(nn.Module):\n",
    "    def __init__(self, n_embd, num_heads):\n",
    "        super().__init__()\n",
    "        self.attn = nn.MultiheadAttention(n_embd, num_heads, dropout=0.1, batch_first=True)\n",
    "        self.ln1 = nn.LayerNorm(n_embd)\n",
    "        self.ff = nn.Sequential(\n",
    "            nn.Linear(n_embd, 4 * n_embd),\n",
    "            nn.ReLU(),\n",
    "            nn.Linear(4 * n_embd, n_embd)\n",
    "        )\n",
    "        self.ln2 = nn.LayerNorm(n_embd)\n",
    "\n",
    "    def forward(self, x, attn_mask=None):\n",
    "        x = x + self.attn(self.ln1(x), self.ln1(x), self.ln1(x), attn_mask=attn_mask)[0]\n",
    "        x = x + self.ff(self.ln2(x))\n",
    "        return x\n"
   ]
  },
  {
   "cell_type": "code",
   "execution_count": 8,
   "id": "9189dc20",
   "metadata": {},
   "outputs": [],
   "source": [
    "class Transformer(nn.Module):\n",
    "    def __init__(self, vocab_size, n_embd, block_size, num_layers=2, num_heads=4):\n",
    "        super().__init__()\n",
    "        self.token_emb = nn.Embedding(vocab_size, n_embd)\n",
    "        self.pos_emb = nn.Embedding(block_size, n_embd)\n",
    "        self.blocks = nn.ModuleList([\n",
    "            TransformerBlock(n_embd, num_heads) for _ in range(num_layers)\n",
    "        ])\n",
    "        self.ln_f = nn.LayerNorm(n_embd)\n",
    "        self.head = nn.Linear(n_embd, vocab_size)\n",
    "\n",
    "    def forward(self, idx, targets=None):\n",
    "        B, T = idx.shape\n",
    "        tok_emb = self.token_emb(idx)\n",
    "        pos_emb = self.pos_emb(torch.arange(T, device=idx.device))\n",
    "        x = tok_emb + pos_emb\n",
    "\n",
    "        mask = torch.tril(torch.ones(T, T, device=idx.device)).bool()\n",
    "        attn_mask = ~mask\n",
    "\n",
    "        for block in self.blocks:\n",
    "            x = block(x, attn_mask=attn_mask)\n",
    "\n",
    "        x = self.ln_f(x)\n",
    "        logits = self.head(x)\n",
    "\n",
    "        loss = None\n",
    "        if targets is not None:\n",
    "            B, T, C = logits.shape\n",
    "            loss = F.cross_entropy(logits.view(B * T, C), targets.view(B * T))\n",
    "\n",
    "        return logits, loss\n",
    "\n",
    "    def generate(self, idx, max_new_tokens, temperature=1.0, top_k=None):\n",
    "        for _ in range(max_new_tokens):\n",
    "            idx_cond = idx[:, -block_size:]\n",
    "            logits, _ = self(idx_cond)\n",
    "            logits = logits[:, -1, :] / temperature\n",
    "\n",
    "            if top_k is not None:\n",
    "                v, _ = torch.topk(logits, top_k)\n",
    "                logits[logits < v[:, [-1]]] = -float('Inf')\n",
    "\n",
    "            probs = F.softmax(logits, dim=-1)\n",
    "            next_token = torch.multinomial(probs, num_samples=1)\n",
    "            idx = torch.cat((idx, next_token), dim=1)\n",
    "        return idx\n"
   ]
  },
  {
   "cell_type": "code",
   "execution_count": 9,
   "id": "a420bfc9",
   "metadata": {},
   "outputs": [
    {
     "name": "stdout",
     "output_type": "stream",
     "text": [
      "Step 0, Train Loss: 4.6186, Val Loss: 4.2832\n",
      "Step 250, Train Loss: 2.3544, Val Loss: 2.4379\n",
      "Step 500, Train Loss: 1.9868, Val Loss: 2.1005\n",
      "Step 750, Train Loss: 1.8952, Val Loss: 1.9598\n",
      "Step 1000, Train Loss: 1.7513, Val Loss: 1.8380\n",
      "Step 1250, Train Loss: 1.6864, Val Loss: 1.8013\n",
      "Step 1500, Train Loss: 1.6844, Val Loss: 1.7284\n",
      "Step 1750, Train Loss: 1.6073, Val Loss: 1.7248\n",
      "Step 2000, Train Loss: 1.6172, Val Loss: 1.6523\n",
      "Step 2250, Train Loss: 1.5814, Val Loss: 1.6444\n",
      "Step 2500, Train Loss: 1.4961, Val Loss: 1.6415\n",
      "Step 2750, Train Loss: 1.4938, Val Loss: 1.6129\n",
      "Step 3000, Train Loss: 1.4508, Val Loss: 1.6174\n",
      "Step 3250, Train Loss: 1.4670, Val Loss: 1.6159\n",
      "Step 3500, Train Loss: 1.4325, Val Loss: 1.6052\n",
      "Step 3750, Train Loss: 1.4300, Val Loss: 1.5964\n",
      "Step 4000, Train Loss: 1.3988, Val Loss: 1.5837\n",
      "Step 4250, Train Loss: 1.3834, Val Loss: 1.5803\n",
      "Step 4500, Train Loss: 1.3345, Val Loss: 1.5635\n",
      "Step 4750, Train Loss: 1.3937, Val Loss: 1.5703\n"
     ]
    }
   ],
   "source": [
    "model = Transformer(vocab_size, n_embd, block_size, num_layers=2, num_heads=4).to(device)\n",
    "\n",
    "optimizer = torch.optim.AdamW(model.parameters(), lr=learning_rate)\n",
    "\n",
    "train_losses = []\n",
    "val_losses = []\n",
    "\n",
    "for step in range(max_iters):\n",
    "    xb, yb = get_batch('train')\n",
    "    logits, loss = model(xb, yb)\n",
    "    optimizer.zero_grad()\n",
    "    loss.backward()\n",
    "    optimizer.step()\n",
    "\n",
    "    if step % eval_interval == 0:\n",
    "        val_loss = 0\n",
    "        with torch.no_grad():\n",
    "            for _ in range(10):\n",
    "                xval, yval = get_batch('val')\n",
    "                _, vloss = model(xval, yval)\n",
    "                val_loss += vloss.item()\n",
    "            val_loss /= 10\n",
    "        train_losses.append(loss.item())\n",
    "        val_losses.append(val_loss)\n",
    "        print(f\"Step {step}, Train Loss: {loss.item():.4f}, Val Loss: {val_loss:.4f}\")\n"
   ]
  },
  {
   "cell_type": "code",
   "execution_count": 10,
   "id": "67ae1870",
   "metadata": {},
   "outputs": [
    {
     "data": {
      "image/png": "[encoded data removed]",
      "text/plain": [
       "<Figure size 640x480 with 1 Axes>"
      ]
     },
     "metadata": {},
     "output_type": "display_data"
    }
   ],
   "source": [
    "plt.plot(train_losses, label='Train Loss')\n",
    "plt.plot(val_losses, label='Val Loss')\n",
    "plt.xlabel('Checkpoint')\n",
    "plt.ylabel('Loss')\n",
    "plt.title('Training & Validation Loss')\n",
    "plt.legend()\n",
    "plt.grid(True)\n",
    "plt.show()"
   ]
  },
  {
   "cell_type": "code",
   "execution_count": 11,
   "id": "29394155",
   "metadata": {},
   "outputs": [
    {
     "name": "stdout",
     "output_type": "stream",
     "text": [
      "\n",
      "- Well, what what it's what I mean? So, stop! Oh! See you murdered because to be some the kids of that two him! Three not to be that the simulations.\n",
      "- He's please.\n",
      "Meeseeks like thing us in threads with you gothing you two one prison to care a comming of the victim one to murder than them and a reline wife.\n",
      "How do you on your lister this check and or live a car of while, man.\n",
      "Fine! - Now do what the live I'm talking about the one about this to somewhere when I do? He loard it is have a guy, rea\n"
     ]
    }
   ],
   "source": [
    "context = torch.zeros((1, 1), dtype=torch.long, device=device)\n",
    "generated = model.generate(context, max_new_tokens=500, temperature=0.7, top_k=50)\n",
    "print(decode(generated[0].tolist()))"
   ]
  },
  {
   "cell_type": "code",
   "execution_count": 12,
   "id": "e772a5cf",
   "metadata": {},
   "outputs": [
    {
     "name": "stdout",
     "output_type": "stream",
     "text": [
      "Total trainable parameters: 434515\n"
     ]
    }
   ],
   "source": [
    "# %%\n",
    "def count_parameters(model):\n",
    "    return sum(p.numel() for p in model.parameters() if p.requires_grad)\n",
    "\n",
    "total_params = count_parameters(model)\n",
    "print(f\"Total trainable parameters: {total_params}\")\n"
   ]
  },
  {
   "cell_type": "code",
   "execution_count": 14,
   "id": "282d9510",
   "metadata": {},
   "outputs": [],
   "source": [
    "torch.save(model.state_dict(), \"two-layer-transformer_char_model.pt\")\n"
   ]
  }
 ],
 "metadata": {
  "kernelspec": {
   "display_name": "Python 3",
   "language": "python",
   "name": "python3"
  },
  "language_info": {
   "codemirror_mode": {
    "name": "ipython",
    "version": 3
   },
   "file_extension": ".py",
   "mimetype": "text/x-python",
   "name": "python",
   "nbconvert_exporter": "python",
   "pygments_lexer": "ipython3",
   "version": "3.11.7"
  }
 },
 "nbformat": 4,
 "nbformat_minor": 5
}
