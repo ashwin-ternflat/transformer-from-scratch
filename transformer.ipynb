{
 "cells": [
  {
   "cell_type": "code",
   "execution_count": 42,
   "id": "fd12db3c",
   "metadata": {},
   "outputs": [],
   "source": [
    "import torch\n",
    "import torch.nn as nn\n",
    "from torch.nn import functional as F\n",
    "import matplotlib.pyplot as plt"
   ]
  },
  {
   "cell_type": "code",
   "execution_count": 43,
   "id": "9be180da",
   "metadata": {},
   "outputs": [],
   "source": [
    "with open(\"r&m.txt\", \"r\", encoding=\"utf-8\") as f:\n",
    "    text = f.read()"
   ]
  },
  {
   "cell_type": "code",
   "execution_count": 44,
   "id": "4a261ffd",
   "metadata": {},
   "outputs": [],
   "source": [
    "chars = sorted(list(set(text)))    # vocab build\n",
    "vocab_size = len(chars)\n",
    "stoi = {ch: i for i, ch in enumerate(chars)}\n",
    "itos = {i: ch for i, ch in enumerate(chars)}\n",
    "encode = lambda s: [stoi.get(c, 0) for c in s]\n",
    "decode = lambda l: ''.join([itos[i] for i in l])"
   ]
  },
  {
   "cell_type": "code",
   "execution_count": 45,
   "id": "b5804a0f",
   "metadata": {},
   "outputs": [],
   "source": [
    "data = torch.tensor(encode(text), dtype=torch.long)  # encode dataset\n",
    "train_data = data[:int(0.9 * len(data))]\n",
    "val_data = data[int(0.9 * len(data)):]"
   ]
  },
  {
   "cell_type": "code",
   "execution_count": 46,
   "id": "c1b1988a",
   "metadata": {},
   "outputs": [],
   "source": [
    "batch_size = 32        #hyperparameters for the transformer layer\n",
    "block_size = 128\n",
    "n_embd = 128\n",
    "device = 'cuda' if torch.cuda.is_available() else 'cpu'\n",
    "learning_rate = 1e-3\n",
    "max_iters = 5000\n",
    "eval_interval = 250\n"
   ]
  },
  {
   "cell_type": "code",
   "execution_count": 47,
   "id": "eae5a9ac",
   "metadata": {},
   "outputs": [],
   "source": [
    "def get_batch(split):            # batch loader\n",
    "    d = train_data if split == 'train' else val_data\n",
    "    ix = torch.randint(len(d) - block_size, (batch_size,))\n",
    "    x = torch.stack([d[i:i+block_size] for i in ix])\n",
    "    y = torch.stack([d[i+1:i+block_size+1] for i in ix])\n",
    "    return x.to(device), y.to(device)"
   ]
  },
  {
   "cell_type": "code",
   "execution_count": 48,
   "id": "9189dc20",
   "metadata": {},
   "outputs": [],
   "source": [
    "class Transformer(nn.Module):              #transformer\n",
    "    def __init__(self, vocab_size, n_embd, block_size):\n",
    "        super().__init__()\n",
    "        self.token_emb = nn.Embedding(vocab_size, n_embd)\n",
    "        self.pos_emb = nn.Embedding(block_size, n_embd)\n",
    "        self.attn = nn.MultiheadAttention(n_embd, num_heads=2, dropout=0.1, batch_first=True)\n",
    "        self.ln1 = nn.LayerNorm(n_embd)\n",
    "        self.ff = nn.Sequential(\n",
    "            nn.Linear(n_embd, 4 * n_embd),\n",
    "            nn.ReLU(),\n",
    "            nn.Linear(4 * n_embd, n_embd)\n",
    "        )\n",
    "        self.ln2 = nn.LayerNorm(n_embd)\n",
    "        self.head = nn.Linear(n_embd, vocab_size)\n",
    "\n",
    "    def forward(self, idx, targets=None):\n",
    "        B, T = idx.shape\n",
    "        tok_emb = self.token_emb(idx)\n",
    "        pos_emb = self.pos_emb(torch.arange(T, device=idx.device))\n",
    "        x = tok_emb + pos_emb\n",
    "        x = self.ln1(x)\n",
    "\n",
    "        mask = torch.tril(torch.ones(T, T, device=idx.device)).bool()\n",
    "        x, _ = self.attn(x, x, x, attn_mask=~mask)\n",
    "\n",
    "        x = x + self.ff(self.ln2(x))\n",
    "        logits = self.head(x)\n",
    "\n",
    "        loss = None\n",
    "        if targets is not None:\n",
    "            B, T, C = logits.shape\n",
    "            loss = F.cross_entropy(logits.view(B*T, C), targets.view(B*T))\n",
    "\n",
    "        return logits, loss\n",
    "\n",
    "    def generate(self, idx, max_new_tokens, temperature=1.0, top_k=None):\n",
    "        for _ in range(max_new_tokens):\n",
    "            idx_cond = idx[:, -block_size:]\n",
    "            logits, _ = self(idx_cond)\n",
    "            logits = logits[:, -1, :] / temperature\n",
    "\n",
    "            if top_k is not None:\n",
    "                v, _ = torch.topk(logits, top_k)\n",
    "                logits[logits < v[:, [-1]]] = -float('Inf')\n",
    "\n",
    "            probs = F.softmax(logits, dim=-1)\n",
    "            next_token = torch.multinomial(probs, num_samples=1)\n",
    "            idx = torch.cat((idx, next_token), dim=1)\n",
    "        return idx\n"
   ]
  },
  {
   "cell_type": "code",
   "execution_count": 49,
   "id": "a420bfc9",
   "metadata": {},
   "outputs": [
    {
     "name": "stdout",
     "output_type": "stream",
     "text": [
      "Step 0, Train Loss: 4.4465, Val Loss: 4.1912\n",
      "Step 250, Train Loss: 2.4783, Val Loss: 2.5130\n",
      "Step 500, Train Loss: 2.2367, Val Loss: 2.2908\n",
      "Step 750, Train Loss: 2.0244, Val Loss: 2.1367\n",
      "Step 1000, Train Loss: 2.0112, Val Loss: 2.0685\n",
      "Step 1250, Train Loss: 1.9426, Val Loss: 1.9966\n",
      "Step 1500, Train Loss: 1.8708, Val Loss: 1.9657\n",
      "Step 1750, Train Loss: 1.8869, Val Loss: 1.9443\n",
      "Step 2000, Train Loss: 1.8854, Val Loss: 1.9104\n",
      "Step 2250, Train Loss: 1.7796, Val Loss: 1.8990\n",
      "Step 2500, Train Loss: 1.8107, Val Loss: 1.8746\n",
      "Step 2750, Train Loss: 1.7455, Val Loss: 1.8724\n",
      "Step 3000, Train Loss: 1.7330, Val Loss: 1.8513\n",
      "Step 3250, Train Loss: 1.7434, Val Loss: 1.8515\n",
      "Step 3500, Train Loss: 1.7468, Val Loss: 1.8393\n",
      "Step 3750, Train Loss: 1.7150, Val Loss: 1.8403\n",
      "Step 4000, Train Loss: 1.6829, Val Loss: 1.8101\n",
      "Step 4250, Train Loss: 1.7376, Val Loss: 1.8061\n",
      "Step 4500, Train Loss: 1.6702, Val Loss: 1.8077\n",
      "Step 4750, Train Loss: 1.7133, Val Loss: 1.8129\n"
     ]
    }
   ],
   "source": [
    "model = Transformer(vocab_size, n_embd, block_size).to(device)\n",
    "optimizer = torch.optim.AdamW(model.parameters(), lr=learning_rate)\n",
    "\n",
    "train_losses = []\n",
    "val_losses = []\n",
    "\n",
    "for step in range(max_iters):\n",
    "    xb, yb = get_batch('train')\n",
    "    logits, loss = model(xb, yb)\n",
    "    optimizer.zero_grad()\n",
    "    loss.backward()\n",
    "    optimizer.step()\n",
    "\n",
    "    if step % eval_interval == 0:\n",
    "        val_loss = 0\n",
    "        with torch.no_grad():\n",
    "            for _ in range(10):\n",
    "                xval, yval = get_batch('val')\n",
    "                _, vloss = model(xval, yval)\n",
    "                val_loss += vloss.item()\n",
    "            val_loss /= 10\n",
    "        train_losses.append(loss.item())\n",
    "        val_losses.append(val_loss)\n",
    "        print(f\"Step {step}, Train Loss: {loss.item():.4f}, Val Loss: {val_loss:.4f}\")\n"
   ]
  },
  {
   "cell_type": "code",
   "execution_count": 50,
   "id": "67ae1870",
   "metadata": {},
   "outputs": [
    {
     "data": {
      "image/png": "[encoded data removed]",
      "text/plain": [
       "<Figure size 640x480 with 1 Axes>"
      ]
     },
     "metadata": {},
     "output_type": "display_data"
    }
   ],
   "source": [
    "plt.plot(train_losses, label='Train Loss')\n",
    "plt.plot(val_losses, label='Val Loss')\n",
    "plt.xlabel('Checkpoint')\n",
    "plt.ylabel('Loss')\n",
    "plt.title('Training & Validation Loss')\n",
    "plt.legend()\n",
    "plt.grid(True)\n",
    "plt.show()"
   ]
  },
  {
   "cell_type": "code",
   "execution_count": 51,
   "id": "29394155",
   "metadata": {},
   "outputs": [
    {
     "name": "stdout",
     "output_type": "stream",
     "text": [
      "\n",
      "I though? Creaahe reall the the him.\n",
      "Is need way whell, happened in this botted specertive s now time deep in my fail stoom one to for you haved me you got people peopl the part ever.\n",
      "help.\n",
      "you got to taing comping for family on me the pices.\n",
      "The hot of dealle iny gearten themself? Looker.\n",
      "I'm son from andles, I greanhead funed that spowil pice wish the of long.\n",
      "The acting I'm gethe mean, had to sere so and to like not somdeone that me.\n",
      "I call and the there all thugto to stain this what me.\n",
      "Mort\n"
     ]
    }
   ],
   "source": [
    "context = torch.zeros((1, 1), dtype=torch.long, device=device)\n",
    "generated = model.generate(context, max_new_tokens=500, temperature=0.7, top_k=50)\n",
    "print(decode(generated[0].tolist()))"
   ]
  },
  {
   "cell_type": "code",
   "execution_count": 52,
   "id": "e772a5cf",
   "metadata": {},
   "outputs": [
    {
     "name": "stdout",
     "output_type": "stream",
     "text": [
      "Total trainable parameters: 235987\n"
     ]
    }
   ],
   "source": [
    "# %%\n",
    "def count_parameters(model):\n",
    "    return sum(p.numel() for p in model.parameters() if p.requires_grad)\n",
    "\n",
    "total_params = count_parameters(model)\n",
    "print(f\"Total trainable parameters: {total_params}\")\n"
   ]
  }
 ],
 "metadata": {
  "kernelspec": {
   "display_name": "Python 3",
   "language": "python",
   "name": "python3"
  },
  "language_info": {
   "codemirror_mode": {
    "name": "ipython",
    "version": 3
   },
   "file_extension": ".py",
   "mimetype": "text/x-python",
   "name": "python",
   "nbconvert_exporter": "python",
   "pygments_lexer": "ipython3",
   "version": "3.11.7"
  }
 },
 "nbformat": 4,
 "nbformat_minor": 5
}
